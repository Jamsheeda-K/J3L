{
 "cells": [
  {
   "cell_type": "code",
   "execution_count": 1,
   "id": "extended-official",
   "metadata": {},
   "outputs": [],
   "source": [
    "import pandas as pd\n",
    "import numpy as np\n",
    "import pygraphviz as pgv"
   ]
  },
  {
   "cell_type": "code",
   "execution_count": 2,
   "id": "weighted-terminology",
   "metadata": {},
   "outputs": [],
   "source": [
    "frame = pd.read_csv('/Users/Lutz/Desktop/spiced_projects/discrete-dill-student-code/J3L/notebooks/lutz/supermarket.csv')"
   ]
  },
  {
   "cell_type": "code",
   "execution_count": 4,
   "id": "understanding-granny",
   "metadata": {
    "scrolled": true
   },
   "outputs": [
    {
     "data": {
      "text/html": [
       "<div>\n",
       "<style scoped>\n",
       "    .dataframe tbody tr th:only-of-type {\n",
       "        vertical-align: middle;\n",
       "    }\n",
       "\n",
       "    .dataframe tbody tr th {\n",
       "        vertical-align: top;\n",
       "    }\n",
       "\n",
       "    .dataframe thead th {\n",
       "        text-align: right;\n",
       "    }\n",
       "</style>\n",
       "<table border=\"1\" class=\"dataframe\">\n",
       "  <thead>\n",
       "    <tr style=\"text-align: right;\">\n",
       "      <th></th>\n",
       "      <th>customer_no</th>\n",
       "      <th>location</th>\n",
       "      <th>day</th>\n",
       "    </tr>\n",
       "    <tr>\n",
       "      <th>timestamp</th>\n",
       "      <th></th>\n",
       "      <th></th>\n",
       "      <th></th>\n",
       "    </tr>\n",
       "  </thead>\n",
       "  <tbody>\n",
       "    <tr>\n",
       "      <th>2019-09-02 07:03:00</th>\n",
       "      <td>2</td>\n",
       "      <td>dairy</td>\n",
       "      <td>Monday</td>\n",
       "    </tr>\n",
       "    <tr>\n",
       "      <th>2019-09-02 07:03:00</th>\n",
       "      <td>1</td>\n",
       "      <td>dairy</td>\n",
       "      <td>Monday</td>\n",
       "    </tr>\n",
       "    <tr>\n",
       "      <th>2019-09-02 07:04:00</th>\n",
       "      <td>3</td>\n",
       "      <td>dairy</td>\n",
       "      <td>Monday</td>\n",
       "    </tr>\n",
       "    <tr>\n",
       "      <th>2019-09-02 07:04:00</th>\n",
       "      <td>8</td>\n",
       "      <td>fruit</td>\n",
       "      <td>Monday</td>\n",
       "    </tr>\n",
       "    <tr>\n",
       "      <th>2019-09-02 07:04:00</th>\n",
       "      <td>4</td>\n",
       "      <td>dairy</td>\n",
       "      <td>Monday</td>\n",
       "    </tr>\n",
       "  </tbody>\n",
       "</table>\n",
       "</div>"
      ],
      "text/plain": [
       "                     customer_no location     day\n",
       "timestamp                                        \n",
       "2019-09-02 07:03:00            2    dairy  Monday\n",
       "2019-09-02 07:03:00            1    dairy  Monday\n",
       "2019-09-02 07:04:00            3    dairy  Monday\n",
       "2019-09-02 07:04:00            8    fruit  Monday\n",
       "2019-09-02 07:04:00            4    dairy  Monday"
      ]
     },
     "execution_count": 4,
     "metadata": {},
     "output_type": "execute_result"
    }
   ],
   "source": [
    "frame = frame.set_index('timestamp')\n",
    "frame.index = pd.to_datetime(frame.index)\n",
    "frame.head()"
   ]
  },
  {
   "cell_type": "code",
   "execution_count": 5,
   "id": "green-monte",
   "metadata": {},
   "outputs": [],
   "source": [
    "frame_group = frame.groupby(['customer_no','day'])['location'].resample('1T').ffill()"
   ]
  },
  {
   "cell_type": "code",
   "execution_count": 6,
   "id": "british-action",
   "metadata": {
    "scrolled": true
   },
   "outputs": [
    {
     "data": {
      "text/plain": [
       "customer_no  day       timestamp          \n",
       "1            Friday    2019-09-06 07:00:00       dairy\n",
       "                       2019-09-06 07:01:00       dairy\n",
       "                       2019-09-06 07:02:00       dairy\n",
       "                       2019-09-06 07:03:00       dairy\n",
       "                       2019-09-06 07:04:00      spices\n",
       "                       2019-09-06 07:05:00    checkout\n",
       "             Monday    2019-09-02 07:03:00       dairy\n",
       "                       2019-09-02 07:04:00       dairy\n",
       "                       2019-09-02 07:05:00    checkout\n",
       "             Thursday  2019-09-05 07:00:00      drinks\n",
       "Name: location, dtype: object"
      ]
     },
     "execution_count": 6,
     "metadata": {},
     "output_type": "execute_result"
    }
   ],
   "source": [
    "frame_group.head(10)"
   ]
  },
  {
   "cell_type": "code",
   "execution_count": 7,
   "id": "wireless-concrete",
   "metadata": {},
   "outputs": [
    {
     "data": {
      "text/html": [
       "<div>\n",
       "<style scoped>\n",
       "    .dataframe tbody tr th:only-of-type {\n",
       "        vertical-align: middle;\n",
       "    }\n",
       "\n",
       "    .dataframe tbody tr th {\n",
       "        vertical-align: top;\n",
       "    }\n",
       "\n",
       "    .dataframe thead th {\n",
       "        text-align: right;\n",
       "    }\n",
       "</style>\n",
       "<table border=\"1\" class=\"dataframe\">\n",
       "  <thead>\n",
       "    <tr style=\"text-align: right;\">\n",
       "      <th></th>\n",
       "      <th>customer_no</th>\n",
       "      <th>day</th>\n",
       "      <th>timestamp</th>\n",
       "      <th>location</th>\n",
       "    </tr>\n",
       "  </thead>\n",
       "  <tbody>\n",
       "    <tr>\n",
       "      <th>0</th>\n",
       "      <td>1</td>\n",
       "      <td>Friday</td>\n",
       "      <td>2019-09-06 07:00:00</td>\n",
       "      <td>dairy</td>\n",
       "    </tr>\n",
       "    <tr>\n",
       "      <th>1</th>\n",
       "      <td>1</td>\n",
       "      <td>Friday</td>\n",
       "      <td>2019-09-06 07:01:00</td>\n",
       "      <td>dairy</td>\n",
       "    </tr>\n",
       "    <tr>\n",
       "      <th>2</th>\n",
       "      <td>1</td>\n",
       "      <td>Friday</td>\n",
       "      <td>2019-09-06 07:02:00</td>\n",
       "      <td>dairy</td>\n",
       "    </tr>\n",
       "    <tr>\n",
       "      <th>3</th>\n",
       "      <td>1</td>\n",
       "      <td>Friday</td>\n",
       "      <td>2019-09-06 07:03:00</td>\n",
       "      <td>dairy</td>\n",
       "    </tr>\n",
       "    <tr>\n",
       "      <th>4</th>\n",
       "      <td>1</td>\n",
       "      <td>Friday</td>\n",
       "      <td>2019-09-06 07:04:00</td>\n",
       "      <td>spices</td>\n",
       "    </tr>\n",
       "    <tr>\n",
       "      <th>...</th>\n",
       "      <td>...</td>\n",
       "      <td>...</td>\n",
       "      <td>...</td>\n",
       "      <td>...</td>\n",
       "    </tr>\n",
       "    <tr>\n",
       "      <th>53898</th>\n",
       "      <td>1533</td>\n",
       "      <td>Thursday</td>\n",
       "      <td>2019-09-05 21:48:00</td>\n",
       "      <td>dairy</td>\n",
       "    </tr>\n",
       "    <tr>\n",
       "      <th>53899</th>\n",
       "      <td>1534</td>\n",
       "      <td>Thursday</td>\n",
       "      <td>2019-09-05 21:48:00</td>\n",
       "      <td>fruit</td>\n",
       "    </tr>\n",
       "    <tr>\n",
       "      <th>53900</th>\n",
       "      <td>1534</td>\n",
       "      <td>Thursday</td>\n",
       "      <td>2019-09-05 21:49:00</td>\n",
       "      <td>checkout</td>\n",
       "    </tr>\n",
       "    <tr>\n",
       "      <th>53901</th>\n",
       "      <td>1535</td>\n",
       "      <td>Thursday</td>\n",
       "      <td>2019-09-05 21:48:00</td>\n",
       "      <td>spices</td>\n",
       "    </tr>\n",
       "    <tr>\n",
       "      <th>53902</th>\n",
       "      <td>1535</td>\n",
       "      <td>Thursday</td>\n",
       "      <td>2019-09-05 21:49:00</td>\n",
       "      <td>checkout</td>\n",
       "    </tr>\n",
       "  </tbody>\n",
       "</table>\n",
       "<p>53903 rows × 4 columns</p>\n",
       "</div>"
      ],
      "text/plain": [
       "       customer_no       day           timestamp  location\n",
       "0                1    Friday 2019-09-06 07:00:00     dairy\n",
       "1                1    Friday 2019-09-06 07:01:00     dairy\n",
       "2                1    Friday 2019-09-06 07:02:00     dairy\n",
       "3                1    Friday 2019-09-06 07:03:00     dairy\n",
       "4                1    Friday 2019-09-06 07:04:00    spices\n",
       "...            ...       ...                 ...       ...\n",
       "53898         1533  Thursday 2019-09-05 21:48:00     dairy\n",
       "53899         1534  Thursday 2019-09-05 21:48:00     fruit\n",
       "53900         1534  Thursday 2019-09-05 21:49:00  checkout\n",
       "53901         1535  Thursday 2019-09-05 21:48:00    spices\n",
       "53902         1535  Thursday 2019-09-05 21:49:00  checkout\n",
       "\n",
       "[53903 rows x 4 columns]"
      ]
     },
     "execution_count": 7,
     "metadata": {},
     "output_type": "execute_result"
    }
   ],
   "source": [
    "frame_group.reset_index()"
   ]
  },
  {
   "cell_type": "code",
   "execution_count": 9,
   "id": "japanese-volleyball",
   "metadata": {},
   "outputs": [],
   "source": [
    "frame_trans = frame.reset_index().groupby(['customer_no', 'day'])[['timestamp', 'location']].agg(lambda x: list(x))"
   ]
  },
  {
   "cell_type": "code",
   "execution_count": 10,
   "id": "working-spell",
   "metadata": {},
   "outputs": [
    {
     "data": {
      "text/html": [
       "<div>\n",
       "<style scoped>\n",
       "    .dataframe tbody tr th:only-of-type {\n",
       "        vertical-align: middle;\n",
       "    }\n",
       "\n",
       "    .dataframe tbody tr th {\n",
       "        vertical-align: top;\n",
       "    }\n",
       "\n",
       "    .dataframe thead th {\n",
       "        text-align: right;\n",
       "    }\n",
       "</style>\n",
       "<table border=\"1\" class=\"dataframe\">\n",
       "  <thead>\n",
       "    <tr style=\"text-align: right;\">\n",
       "      <th></th>\n",
       "      <th>before</th>\n",
       "      <th>after</th>\n",
       "    </tr>\n",
       "  </thead>\n",
       "  <tbody>\n",
       "  </tbody>\n",
       "</table>\n",
       "</div>"
      ],
      "text/plain": [
       "Empty DataFrame\n",
       "Columns: [before, after]\n",
       "Index: []"
      ]
     },
     "execution_count": 10,
     "metadata": {},
     "output_type": "execute_result"
    }
   ],
   "source": [
    "# creating matrix with states before and states after\n",
    "frame_transition=pd.DataFrame(columns=['before','after'])\n",
    "index = 0\n",
    "frame_transition"
   ]
  },
  {
   "cell_type": "code",
   "execution_count": 11,
   "id": "sustainable-deposit",
   "metadata": {},
   "outputs": [],
   "source": [
    "for i in frame_trans.iterrows():\n",
    "    customer_no = i[0][0]\n",
    "    day = i[0][1]\n",
    "    timestamp = i[1][0]\n",
    "    location = i[1][1]\n",
    "    #print(sections)\n",
    "    #location.insert(0,'entrance')\n",
    "    #timestamp.insert(0,timestamp[0])\n",
    "    #print(sections)\n",
    "    #print(time_stamp)\n",
    "    for j in range(len(location)):\n",
    "        if (j+1)<len(location):\n",
    "            frame_transition.loc[index]=(location[j],location[j+1])\n",
    "            index += 1"
   ]
  },
  {
   "cell_type": "code",
   "execution_count": 12,
   "id": "administrative-victor",
   "metadata": {
    "scrolled": true
   },
   "outputs": [
    {
     "data": {
      "text/html": [
       "<div>\n",
       "<style scoped>\n",
       "    .dataframe tbody tr th:only-of-type {\n",
       "        vertical-align: middle;\n",
       "    }\n",
       "\n",
       "    .dataframe tbody tr th {\n",
       "        vertical-align: top;\n",
       "    }\n",
       "\n",
       "    .dataframe thead th {\n",
       "        text-align: right;\n",
       "    }\n",
       "</style>\n",
       "<table border=\"1\" class=\"dataframe\">\n",
       "  <thead>\n",
       "    <tr style=\"text-align: right;\">\n",
       "      <th></th>\n",
       "      <th>before</th>\n",
       "      <th>after</th>\n",
       "    </tr>\n",
       "  </thead>\n",
       "  <tbody>\n",
       "    <tr>\n",
       "      <th>0</th>\n",
       "      <td>dairy</td>\n",
       "      <td>spices</td>\n",
       "    </tr>\n",
       "    <tr>\n",
       "      <th>1</th>\n",
       "      <td>spices</td>\n",
       "      <td>checkout</td>\n",
       "    </tr>\n",
       "    <tr>\n",
       "      <th>2</th>\n",
       "      <td>dairy</td>\n",
       "      <td>checkout</td>\n",
       "    </tr>\n",
       "    <tr>\n",
       "      <th>3</th>\n",
       "      <td>drinks</td>\n",
       "      <td>checkout</td>\n",
       "    </tr>\n",
       "    <tr>\n",
       "      <th>4</th>\n",
       "      <td>fruit</td>\n",
       "      <td>drinks</td>\n",
       "    </tr>\n",
       "    <tr>\n",
       "      <th>...</th>\n",
       "      <td>...</td>\n",
       "      <td>...</td>\n",
       "    </tr>\n",
       "    <tr>\n",
       "      <th>17427</th>\n",
       "      <td>spices</td>\n",
       "      <td>drinks</td>\n",
       "    </tr>\n",
       "    <tr>\n",
       "      <th>17428</th>\n",
       "      <td>drinks</td>\n",
       "      <td>checkout</td>\n",
       "    </tr>\n",
       "    <tr>\n",
       "      <th>17429</th>\n",
       "      <td>drinks</td>\n",
       "      <td>checkout</td>\n",
       "    </tr>\n",
       "    <tr>\n",
       "      <th>17430</th>\n",
       "      <td>fruit</td>\n",
       "      <td>checkout</td>\n",
       "    </tr>\n",
       "    <tr>\n",
       "      <th>17431</th>\n",
       "      <td>spices</td>\n",
       "      <td>checkout</td>\n",
       "    </tr>\n",
       "  </tbody>\n",
       "</table>\n",
       "<p>17432 rows × 2 columns</p>\n",
       "</div>"
      ],
      "text/plain": [
       "       before     after\n",
       "0       dairy    spices\n",
       "1      spices  checkout\n",
       "2       dairy  checkout\n",
       "3      drinks  checkout\n",
       "4       fruit    drinks\n",
       "...       ...       ...\n",
       "17427  spices    drinks\n",
       "17428  drinks  checkout\n",
       "17429  drinks  checkout\n",
       "17430   fruit  checkout\n",
       "17431  spices  checkout\n",
       "\n",
       "[17432 rows x 2 columns]"
      ]
     },
     "execution_count": 12,
     "metadata": {},
     "output_type": "execute_result"
    }
   ],
   "source": [
    "frame_transition"
   ]
  },
  {
   "cell_type": "code",
   "execution_count": 24,
   "id": "further-astronomy",
   "metadata": {},
   "outputs": [],
   "source": [
    "#creating transition probability matrix\n",
    "trans_prob_matrix = pd.crosstab(frame_transition['before'], frame_transition['after'], normalize=0)\n",
    "trans_prob_matrix.loc['checkout'] = [1,0,0,0,0]"
   ]
  },
  {
   "cell_type": "code",
   "execution_count": 22,
   "id": "nuclear-assist",
   "metadata": {},
   "outputs": [],
   "source": [
    "# ordering the columns inside\n",
    "trans_prob_matrix = pd.DataFrame(trans_prob_matrix,columns=['dairy','drinks','fruit','spices','checkout'],index=['dairy','drinks','fruit','spices','checkout'])\n",
    "#print(transition_probability_matrix)"
   ]
  },
  {
   "cell_type": "code",
   "execution_count": 23,
   "id": "accepting-momentum",
   "metadata": {},
   "outputs": [
    {
     "data": {
      "text/html": [
       "<div>\n",
       "<style scoped>\n",
       "    .dataframe tbody tr th:only-of-type {\n",
       "        vertical-align: middle;\n",
       "    }\n",
       "\n",
       "    .dataframe tbody tr th {\n",
       "        vertical-align: top;\n",
       "    }\n",
       "\n",
       "    .dataframe thead th {\n",
       "        text-align: right;\n",
       "    }\n",
       "</style>\n",
       "<table border=\"1\" class=\"dataframe\">\n",
       "  <thead>\n",
       "    <tr style=\"text-align: right;\">\n",
       "      <th></th>\n",
       "      <th>dairy</th>\n",
       "      <th>drinks</th>\n",
       "      <th>fruit</th>\n",
       "      <th>spices</th>\n",
       "      <th>checkout</th>\n",
       "    </tr>\n",
       "  </thead>\n",
       "  <tbody>\n",
       "    <tr>\n",
       "      <th>dairy</th>\n",
       "      <td>0.000000</td>\n",
       "      <td>0.223151</td>\n",
       "      <td>0.189925</td>\n",
       "      <td>0.195713</td>\n",
       "      <td>0.391211</td>\n",
       "    </tr>\n",
       "    <tr>\n",
       "      <th>drinks</th>\n",
       "      <td>0.027159</td>\n",
       "      <td>0.000000</td>\n",
       "      <td>0.219062</td>\n",
       "      <td>0.216756</td>\n",
       "      <td>0.537023</td>\n",
       "    </tr>\n",
       "    <tr>\n",
       "      <th>fruit</th>\n",
       "      <td>0.238319</td>\n",
       "      <td>0.136266</td>\n",
       "      <td>0.000000</td>\n",
       "      <td>0.125904</td>\n",
       "      <td>0.499511</td>\n",
       "    </tr>\n",
       "    <tr>\n",
       "      <th>spices</th>\n",
       "      <td>0.323553</td>\n",
       "      <td>0.273140</td>\n",
       "      <td>0.152307</td>\n",
       "      <td>0.000000</td>\n",
       "      <td>0.251000</td>\n",
       "    </tr>\n",
       "    <tr>\n",
       "      <th>checkout</th>\n",
       "      <td>0.000000</td>\n",
       "      <td>0.000000</td>\n",
       "      <td>0.000000</td>\n",
       "      <td>0.000000</td>\n",
       "      <td>1.000000</td>\n",
       "    </tr>\n",
       "  </tbody>\n",
       "</table>\n",
       "</div>"
      ],
      "text/plain": [
       "             dairy    drinks     fruit    spices  checkout\n",
       "dairy     0.000000  0.223151  0.189925  0.195713  0.391211\n",
       "drinks    0.027159  0.000000  0.219062  0.216756  0.537023\n",
       "fruit     0.238319  0.136266  0.000000  0.125904  0.499511\n",
       "spices    0.323553  0.273140  0.152307  0.000000  0.251000\n",
       "checkout  0.000000  0.000000  0.000000  0.000000  1.000000"
      ]
     },
     "execution_count": 23,
     "metadata": {},
     "output_type": "execute_result"
    }
   ],
   "source": [
    "trans_prob_matrix"
   ]
  },
  {
   "cell_type": "code",
   "execution_count": 25,
   "id": "alpine-connecticut",
   "metadata": {},
   "outputs": [],
   "source": [
    "assert all(trans_prob_matrix.sum(axis=1) > 0.999)"
   ]
  },
  {
   "cell_type": "code",
   "execution_count": 26,
   "id": "willing-imagination",
   "metadata": {},
   "outputs": [],
   "source": [
    "trans_prob_matrix.to_csv('trans_matrix.csv')"
   ]
  },
  {
   "cell_type": "code",
   "execution_count": null,
   "id": "balanced-sauce",
   "metadata": {},
   "outputs": [],
   "source": []
  }
 ],
 "metadata": {
  "kernelspec": {
   "display_name": "Python [conda env:doodl_shop]",
   "language": "python",
   "name": "conda-env-doodl_shop-py"
  },
  "language_info": {
   "codemirror_mode": {
    "name": "ipython",
    "version": 3
   },
   "file_extension": ".py",
   "mimetype": "text/x-python",
   "name": "python",
   "nbconvert_exporter": "python",
   "pygments_lexer": "ipython3",
   "version": "3.6.13"
  }
 },
 "nbformat": 4,
 "nbformat_minor": 5
}
